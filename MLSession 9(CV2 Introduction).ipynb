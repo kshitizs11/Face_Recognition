{
 "cells": [
  {
   "cell_type": "code",
   "execution_count": 1,
   "metadata": {},
   "outputs": [],
   "source": [
    "import os\n",
    "import numpy as np\n",
    "import cv2"
   ]
  },
  {
   "cell_type": "code",
   "execution_count": 6,
   "metadata": {},
   "outputs": [],
   "source": [
    "np.concatenate?"
   ]
  },
  {
   "cell_type": "code",
   "execution_count": 2,
   "metadata": {},
   "outputs": [
    {
     "name": "stdout",
     "output_type": "stream",
     "text": [
      "(950, 30000)\n",
      "data saved at ./data/Kshitiz.npy\n"
     ]
    }
   ],
   "source": [
    "import cv2\n",
    "import numpy as np\n",
    "\n",
    "cam = cv2.VideoCapture(0)\n",
    "\n",
    "face_cascade = cv2.CascadeClassifier(\"haarcascade_frontalface_default.xml\")\n",
    "\n",
    "face_data = []\n",
    "\n",
    "dataset_path = \"./data/\"\n",
    "\n",
    "name  = \"Kshitiz\"\n",
    "\n",
    "\n",
    "while True:\n",
    "    ret, frame = cam.read()\n",
    "    if ret == False:\n",
    "        continue\n",
    "        \n",
    "    gray_frame = cv2.cvtColor(frame, cv2.COLOR_BGR2GRAY) # bgr -> grayscale conversion\n",
    "    faces = face_cascade.detectMultiScale(gray_frame, 1.3, 5)\n",
    "    \n",
    "    \n",
    "\n",
    "    for face in faces:\n",
    "        x, y, w, h = face\n",
    "        cv2.rectangle(frame, (x,y), (x+w, y+h), (255, 0, 0), 2)\n",
    "        \n",
    "        offset = 10\n",
    "        face_section = frame[y-offset : y+h+offset , x-offset : x+w+offset]\n",
    "        face_section = cv2.resize(face_section , (100 , 100))\n",
    "        \n",
    "        face_data.append(face_section)\n",
    "        \n",
    "        cv2.imshow(\"cropped face\", face_section)\n",
    "    \n",
    "    cv2.imshow(\"window\", frame)\n",
    "\n",
    "    key = cv2.waitKey(1) # 1ms\n",
    "    if key == ord(\"q\"):\n",
    "        break\n",
    "\n",
    "cam.release()\n",
    "cv2.destroyAllWindows()\n",
    "\n",
    "# print(len(face_data))\n",
    "# print(face_data[0].shape)\n",
    "\n",
    "face_data = np.array(face_data)\n",
    "face_data = face_data.reshape(face_data.shape[0], 3*100*100)\n",
    "print(face_data.shape)\n",
    "\n",
    "np.save(dataset_path+name + \".npy\", face_data)\n",
    "print(\"data saved at \" + dataset_path+name + \".npy\")\n"
   ]
  },
  {
   "cell_type": "code",
   "execution_count": null,
   "metadata": {},
   "outputs": [],
   "source": []
  },
  {
   "cell_type": "code",
   "execution_count": 5,
   "metadata": {},
   "outputs": [],
   "source": [
    "import csv\n",
    "row_list = [[\"SN\", \"Name\", \"Contribution\"],\n",
    "             [1, \"Linus Torvalds\", \"Linux Kernel\"],\n",
    "             [2, \"Tim Berners-Lee\", \"World Wide Web\"],\n",
    "             [3, \"Guido van Rossum\", \"Python Programming\"]]\n",
    "with open('protagonist.csv', 'w',newline='') as file:\n",
    "    writer = csv.writer(file)\n",
    "    writer.writerows(row_list)"
   ]
  },
  {
   "cell_type": "code",
   "execution_count": null,
   "metadata": {},
   "outputs": [],
   "source": []
  }
 ],
 "metadata": {
  "kernelspec": {
   "display_name": "Python 3",
   "language": "python",
   "name": "python3"
  },
  "language_info": {
   "codemirror_mode": {
    "name": "ipython",
    "version": 3
   },
   "file_extension": ".py",
   "mimetype": "text/x-python",
   "name": "python",
   "nbconvert_exporter": "python",
   "pygments_lexer": "ipython3",
   "version": "3.6.10"
  }
 },
 "nbformat": 4,
 "nbformat_minor": 2
}
